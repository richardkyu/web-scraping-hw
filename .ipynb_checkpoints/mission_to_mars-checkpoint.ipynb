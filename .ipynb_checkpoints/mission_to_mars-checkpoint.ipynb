{
 "cells": [
  {
   "cell_type": "code",
   "execution_count": 1,
   "metadata": {},
   "outputs": [
    {
     "name": "stdout",
     "output_type": "stream",
     "text": [
      "Requirement already satisfied: selenium in /Users/richard/anaconda3/lib/python3.6/site-packages (3.141.0)\n",
      "Requirement already satisfied: urllib3 in /Users/richard/anaconda3/lib/python3.6/site-packages (from selenium) (1.24.1)\n",
      "Requirement already satisfied: splinter in /Users/richard/anaconda3/lib/python3.6/site-packages (0.10.0)\n",
      "Requirement already satisfied: selenium>=3.141.0 in /Users/richard/anaconda3/lib/python3.6/site-packages (from splinter) (3.141.0)\n",
      "Requirement already satisfied: urllib3 in /Users/richard/anaconda3/lib/python3.6/site-packages (from selenium>=3.141.0->splinter) (1.24.1)\n"
     ]
    }
   ],
   "source": [
    "#Imports & Dependencies\n",
    "!pip install selenium\n",
    "!pip install splinter\n",
    "from splinter import Browser\n",
    "from bs4 import BeautifulSoup\n",
    "import time"
   ]
  },
  {
   "cell_type": "code",
   "execution_count": 2,
   "metadata": {},
   "outputs": [],
   "source": [
    "#Site Navigation\n",
    "#Note: you'll need to change the executable path to match the location of chromedriver on your own computer.\n",
    "executable_path = {\"executable_path\": \"/Users/richard/Downloads/chromedriver\"}\n",
    "browser = Browser(\"chrome\", **executable_path, headless=False)"
   ]
  },
  {
   "cell_type": "markdown",
   "metadata": {},
   "source": [
    "# NASA Mars News"
   ]
  },
  {
   "cell_type": "code",
   "execution_count": 50,
   "metadata": {},
   "outputs": [],
   "source": [
    "def marsNews():\n",
    "    news_url = \"https://mars.nasa.gov/news/\"\n",
    "    browser.visit(news_url)\n",
    "    time.sleep(5)\n",
    "    html = browser.html\n",
    "    soup = BeautifulSoup(html, \"html.parser\")\n",
    "    \n",
    "    #If you want to see all the article titles and descriptions that load on the page.\n",
    "    '''allTitles = soup.findAll('div', class_='content_title')\n",
    "    allDescriptions = soup.findAll('div', class_='article_teaser_body')\n",
    "    for counter, element in enumerate(allTitles):\n",
    "        print(counter, element.text)\n",
    "    for counter, element in enumerate(allDescriptions):\n",
    "        print(counter, element.text)'''\n",
    "    \n",
    "    article = soup.find(\"div\", class_='list_text')\n",
    "    news_title = article.find(\"div\", class_=\"content_title\").text\n",
    "    news_p = article.find(\"div\", class_ =\"article_teaser_body\").text\n",
    "    output = [news_title, news_p]\n",
    "    return output"
   ]
  },
  {
   "cell_type": "code",
   "execution_count": 51,
   "metadata": {},
   "outputs": [
    {
     "name": "stdout",
     "output_type": "stream",
     "text": [
      "InSight Captures Sunrise and Sunset on Mars\n",
      "InSight joins the rest of NASA's Red Planet surface missions, all of which have photographed either the start or end of a Martian day.\n"
     ]
    }
   ],
   "source": [
    "#Show result of marsNews function\n",
    "news = marsNews()\n",
    "\n",
    "for element in news:\n",
    "    print(element)"
   ]
  },
  {
   "cell_type": "markdown",
   "metadata": {},
   "source": [
    "# JPL Mars Space Images - Featured Image"
   ]
  },
  {
   "cell_type": "code",
   "execution_count": 53,
   "metadata": {},
   "outputs": [],
   "source": [
    "def marsImage():\n",
    "    image_url = \"https://www.jpl.nasa.gov/spaceimages/?search=&category=Mars\"\n",
    "    browser.visit(image_url)\n",
    "    html = browser.html\n",
    "    soup = BeautifulSoup(html, \"html.parser\")\n",
    "    image = soup.find(\"img\", class_=\"thumb\")[\"src\"]\n",
    "    featured_image_url = \"https://www.jpl.nasa.gov\" + image\n",
    "    return featured_image_url"
   ]
  },
  {
   "cell_type": "code",
   "execution_count": 54,
   "metadata": {},
   "outputs": [
    {
     "name": "stdout",
     "output_type": "stream",
     "text": [
      "https://www.jpl.nasa.gov/spaceimages/images/wallpaper/PIA23191-640x350.jpg\n"
     ]
    }
   ],
   "source": [
    "image_url = marsImage()\n",
    "print(image_url)"
   ]
  },
  {
   "cell_type": "markdown",
   "metadata": {},
   "source": [
    "# Mars Weather\n"
   ]
  },
  {
   "cell_type": "code",
   "execution_count": 56,
   "metadata": {},
   "outputs": [],
   "source": [
    "def marsWeather():\n",
    "    url_weather = \"https://twitter.com/marswxreport?lang=en\"\n",
    "    browser.visit(url_weather)\n",
    "    html_weather = browser.html\n",
    "    soup = BeautifulSoup(html_weather, \"html.parser\")\n",
    "    mars_weather = soup.find(\"p\", class_=\"TweetTextSize TweetTextSize--normal js-tweet-text tweet-text\").text\n",
    "    return mars_weather"
   ]
  },
  {
   "cell_type": "code",
   "execution_count": 58,
   "metadata": {},
   "outputs": [
    {
     "name": "stdout",
     "output_type": "stream",
     "text": [
      "InSight sol 154 (2019-05-03) low -97.6ºC (-143.7ºF) high -17.2ºC (1.0ºF)\n",
      "winds from the SW at 4.5 m/s (10.0 mph) gusting to 13.1 m/s (29.2 mph)\n",
      "pressure at 7.40 hPapic.twitter.com/0KZXlbiuXO\n"
     ]
    }
   ],
   "source": [
    "twitter_mars_info = marsWeather()\n",
    "print(twitter_mars_info)"
   ]
  },
  {
   "cell_type": "markdown",
   "metadata": {},
   "source": [
    "# Mars Facts"
   ]
  },
  {
   "cell_type": "code",
   "execution_count": 59,
   "metadata": {},
   "outputs": [],
   "source": [
    "def marsFacts():\n",
    "    import pandas as pd\n",
    "    facts_url = \"https://space-facts.com/mars/\"\n",
    "    browser.visit(facts_url)\n",
    "    mars_data = pd.read_html(facts_url)\n",
    "    mars_data = pd.DataFrame(mars_data[0])\n",
    "    mars_data.columns = [\"Description\", \"Value\"]\n",
    "    mars_data = mars_data.set_index(\"Description\")\n",
    "    mars_facts = mars_data.to_html(index = True, header =True)\n",
    "    return mars_facts"
   ]
  },
  {
   "cell_type": "code",
   "execution_count": 62,
   "metadata": {},
   "outputs": [
    {
     "name": "stdout",
     "output_type": "stream",
     "text": [
      "<table border=\"1\" class=\"dataframe\">\n",
      "  <thead>\n",
      "    <tr style=\"text-align: right;\">\n",
      "      <th></th>\n",
      "      <th>Value</th>\n",
      "    </tr>\n",
      "    <tr>\n",
      "      <th>Description</th>\n",
      "      <th></th>\n",
      "    </tr>\n",
      "  </thead>\n",
      "  <tbody>\n",
      "    <tr>\n",
      "      <th>Equatorial Diameter:</th>\n",
      "      <td>6,792 km</td>\n",
      "    </tr>\n",
      "    <tr>\n",
      "      <th>Polar Diameter:</th>\n",
      "      <td>6,752 km</td>\n",
      "    </tr>\n",
      "    <tr>\n",
      "      <th>Mass:</th>\n",
      "      <td>6.42 x 10^23 kg (10.7% Earth)</td>\n",
      "    </tr>\n",
      "    <tr>\n",
      "      <th>Moons:</th>\n",
      "      <td>2 (Phobos &amp; Deimos)</td>\n",
      "    </tr>\n",
      "    <tr>\n",
      "      <th>Orbit Distance:</th>\n",
      "      <td>227,943,824 km (1.52 AU)</td>\n",
      "    </tr>\n",
      "    <tr>\n",
      "      <th>Orbit Period:</th>\n",
      "      <td>687 days (1.9 years)</td>\n",
      "    </tr>\n",
      "    <tr>\n",
      "      <th>Surface Temperature:</th>\n",
      "      <td>-153 to 20 °C</td>\n",
      "    </tr>\n",
      "    <tr>\n",
      "      <th>First Record:</th>\n",
      "      <td>2nd millennium BC</td>\n",
      "    </tr>\n",
      "    <tr>\n",
      "      <th>Recorded By:</th>\n",
      "      <td>Egyptian astronomers</td>\n",
      "    </tr>\n",
      "  </tbody>\n",
      "</table>\n"
     ]
    }
   ],
   "source": [
    "mars_facts = marsFacts()\n",
    "print(mars_facts)"
   ]
  },
  {
   "cell_type": "markdown",
   "metadata": {},
   "source": [
    "# Mars Hemispheres"
   ]
  },
  {
   "cell_type": "code",
   "execution_count": 63,
   "metadata": {},
   "outputs": [],
   "source": [
    "def marsHem():\n",
    "    hemispheres_url = \"https://astrogeology.usgs.gov/search/results?q=hemisphere+enhanced&k1=target&v1=Mars\"\n",
    "    browser.visit(hemispheres_url)\n",
    "    html = browser.html\n",
    "    soup = BeautifulSoup(html, \"html.parser\")\n",
    "    mars_hemisphere = []\n",
    "\n",
    "    products = soup.find(\"div\", class_ = \"result-list\" )\n",
    "    hemispheres = products.find_all(\"div\", class_=\"item\")\n",
    "\n",
    "    for hemisphere in hemispheres:\n",
    "        title = hemisphere.find(\"h3\").text\n",
    "        title = title.replace(\"Enhanced\", \"\")\n",
    "        end_link = hemisphere.find(\"a\")[\"href\"]\n",
    "        image_link = \"https://astrogeology.usgs.gov/\" + end_link    \n",
    "        browser.visit(image_link)\n",
    "        html = browser.html\n",
    "        soup=BeautifulSoup(html, \"html.parser\")\n",
    "        downloads = soup.find(\"div\", class_=\"downloads\")\n",
    "        image_url = downloads.find(\"a\")[\"href\"]\n",
    "        dictionary = {\"title\": title, \"img_url\": image_url}\n",
    "        mars_hemisphere.append(dictionary)\n",
    "    return mars_hemisphere"
   ]
  },
  {
   "cell_type": "code",
   "execution_count": null,
   "metadata": {},
   "outputs": [],
   "source": [
    "mars_hemisphere = marsHem()\n",
    "for counter, element in enumerate(mars_hemisphere):\n",
    "    print(f\"{counter+1}. {element} \\n\")"
   ]
  },
  {
   "cell_type": "code",
   "execution_count": null,
   "metadata": {},
   "outputs": [],
   "source": [
    "#Define Scrape\n",
    "def scrape():\n",
    "    final_data = {}\n",
    "    output = marsNews()\n",
    "    final_data[\"mars_news\"] = output[0]\n",
    "    final_data[\"mars_paragraph\"] = output[1]\n",
    "    final_data[\"mars_image\"] = marsImage()\n",
    "    final_data[\"mars_weather\"] = marsWeather()\n",
    "    final_data[\"mars_facts\"] = marsFacts()\n",
    "    final_data[\"mars_hemisphere\"] = marsHem()\n",
    "\n",
    "    return final_data"
   ]
  },
  {
   "cell_type": "code",
   "execution_count": null,
   "metadata": {},
   "outputs": [],
   "source": []
  }
 ],
 "metadata": {
  "kernelspec": {
   "display_name": "Python 3",
   "language": "python",
   "name": "python3"
  },
  "language_info": {
   "codemirror_mode": {
    "name": "ipython",
    "version": 3
   },
   "file_extension": ".py",
   "mimetype": "text/x-python",
   "name": "python",
   "nbconvert_exporter": "python",
   "pygments_lexer": "ipython3",
   "version": "3.6.7"
  }
 },
 "nbformat": 4,
 "nbformat_minor": 2
}
